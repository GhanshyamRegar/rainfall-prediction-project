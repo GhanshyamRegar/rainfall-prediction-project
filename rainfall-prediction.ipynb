{
  "nbformat": 4,
  "nbformat_minor": 0,
  "metadata": {
    "colab": {
      "provenance": [],
      "authorship_tag": "ABX9TyMZlSKWsHpdyVHM6o43DHEe",
      "include_colab_link": true
    },
    "kernelspec": {
      "name": "python3",
      "display_name": "Python 3"
    },
    "language_info": {
      "name": "python"
    }
  },
  "cells": [
    {
      "cell_type": "markdown",
      "metadata": {
        "id": "view-in-github",
        "colab_type": "text"
      },
      "source": [
        "<a href=\"https://colab.research.google.com/github/GhanshyamRegar/rainfall-prediction-project/blob/main/rainfall-prediction.ipynb\" target=\"_parent\"><img src=\"https://colab.research.google.com/assets/colab-badge.svg\" alt=\"Open In Colab\"/></a>"
      ]
    },
    {
      "cell_type": "code",
      "execution_count": null,
      "metadata": {
        "id": "E2V9oiJikqcA"
      },
      "outputs": [],
      "source": [
        "#  Rainfall Prediction Project: Austin Weather Dataset\n",
        "\n",
        "#  Import Required Libraries\n",
        "import pandas as pd\n",
        "import numpy as np\n",
        "import matplotlib.pyplot as plt\n",
        "import seaborn as sns\n",
        "from sklearn.linear_model import LinearRegression\n",
        "from sklearn.model_selection import train_test_split\n",
        "from sklearn.metrics import mean_squared_error, r2_score\n",
        "\n",
        "# Visual settings\n",
        "sns.set(style=\"whitegrid\")\n",
        "plt.rcParams[\"figure.figsize\"] = (12, 6)\n",
        "\n",
        "#  Load Dataset\n",
        "df = pd.read_csv(\"austin_weather.csv\")\n",
        "df.head()\n",
        "#  Data Cleaning\n",
        "\n",
        "# Check for missing values and datatypes\n",
        "df.info()\n",
        "\n",
        "# Replace trace values 'T' with 0.0 (very small values of rainfall)\n",
        "df.replace('T', 0.0, inplace=True)\n",
        "\n",
        "# Replace '-' (missing data) with NaN\n",
        "df.replace('-', np.nan, inplace=True)\n",
        "\n",
        "# Convert numeric columns to float\n",
        "for col in df.columns:\n",
        "    try:\n",
        "        df[col] = df[col].astype(float)\n",
        "    except:\n",
        "        pass  # Ignore non-numeric columns\n",
        "\n",
        "# Drop irrelevant columns (like Date or ones with too many missing values)\n",
        "df = df.drop(columns=[\"Events\", \"Date\"], errors=\"ignore\")\n",
        "\n",
        "# Drop rows with any NaN values\n",
        "df.dropna(inplace=True)\n",
        "\n",
        "# Final structure\n",
        "df.info()\n",
        "#  Correlation Analysis\n",
        "plt.figure(figsize=(12, 8))\n",
        "sns.heatmap(df.corr(), annot=True, cmap='coolwarm')\n",
        "plt.title(\"Correlation Matrix\")\n",
        "plt.show()\n",
        "#  Feature Selection and Target Variable\n",
        "X = df.drop(\"PrecipitationSumInches\", axis=1)\n",
        "y = df[\"PrecipitationSumInches\"]\n",
        "\n",
        "# Split the data\n",
        "X_train, X_test, y_train, y_test = train_test_split(X, y, test_size=0.2, random_state=42)\n",
        "#  Apply Linear Regression\n",
        "model = LinearRegression()\n",
        "model.fit(X_train, y_train)\n",
        "\n",
        "# Predict\n",
        "y_pred = model.predict(X_test)\n",
        "\n",
        "# Metrics\n",
        "print(\"Mean Squared Error:\", mean_squared_error(y_test, y_pred))\n",
        "print(\"R2 Score:\", r2_score(y_test, y_pred))\n",
        "\n",
        "#  Visualization - Actual vs Predicted\n",
        "plt.scatter(y_test, y_pred, alpha=0.6)\n",
        "plt.xlabel(\"Actual Precipitation\")\n",
        "plt.ylabel(\"Predicted Precipitation\")\n",
        "plt.title(\"Actual vs Predicted Precipitation\")\n",
        "plt.plot([0, max(y_test)], [0, max(y_test)], color='red')\n",
        "plt.show()\n",
        "\n",
        "#  Trend Visualization - Precipitation Over Time (Optional if Date exists)\n",
        "# If 'Date' column is present in raw dataset before dropping\n",
        "df_date = pd.read_csv(\"austin_weather.csv\")\n",
        "df_date[\"PrecipitationSumInches\"] = df_date[\"PrecipitationSumInches\"].replace(\"T\", 0.0).astype(float)\n",
        "df_date[\"Date\"] = pd.to_datetime(df_date[\"Date\"])\n",
        "df_date = df_date.dropna(subset=[\"PrecipitationSumInches\"])\n",
        "\n",
        "plt.plot(df_date[\"Date\"], df_date[\"PrecipitationSumInches\"])\n",
        "plt.xlabel(\"Date\")\n",
        "plt.ylabel(\"Precipitation (inches)\")\n",
        "plt.title(\"Precipitation Trend Over Time\")\n",
        "plt.show()\n"
      ]
    }
  ]
}